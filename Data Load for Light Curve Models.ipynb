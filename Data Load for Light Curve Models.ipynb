{
 "cells": [
  {
   "cell_type": "code",
   "execution_count": 125,
   "metadata": {},
   "outputs": [],
   "source": [
    "import numpy as np\n",
    "import matplotlib.pyplot as plt"
   ]
  },
  {
   "cell_type": "code",
   "execution_count": 126,
   "metadata": {},
   "outputs": [],
   "source": [
    "#def Model():\n",
    "twoc = np.loadtxt('kn_model_two_comp.csv', delimiter=',', skiprows=173, usecols=(1,3))\n",
    "twocr = np.loadtxt('kn_model_two_comp_red.csv', delimiter=',', skiprows=41, usecols=(1,3))\n",
    "twocb = np.loadtxt('kn_model_two_comp_blue.csv', delimiter=',', skiprows=41, usecols=(1,3))\n",
    "threec = np.loadtxt('kn_model_three_comp.csv', delimiter=',', skiprows=173, usecols=(1,3))\n",
    "threecb = np.loadtxt('kn_model_three_comp_blue.csv', delimiter=',', skiprows=41, usecols=(1,3))\n",
    "    #return two_comp, two_comp_red, two_comp_blue, three_comp, three_comp_blue\n",
    "#Model = Model()"
   ]
  },
  {
   "cell_type": "code",
   "execution_count": 127,
   "metadata": {},
   "outputs": [],
   "source": [
    "KW_NSBH = np.loadtxt('NSBH1.csv', delimiter=',', skiprows=1, usecols=(0,1))\n",
    "BR_NSBH = np.loadtxt('NSBH2.csv', delimiter=',', skiprows=1, usecols=(0,1))"
   ]
  },
  {
   "cell_type": "code",
   "execution_count": 128,
   "metadata": {},
   "outputs": [],
   "source": [
    "twoct = twoc[:,0]-57982.5285\n",
    "twocm = twoc[:,1]\n",
    "two_comp = np.vstack((twoct, twocm)).T\n",
    "\n",
    "twoctr = twocr[:,0]-57982.5285\n",
    "twocmr = twocr[:,1]\n",
    "two_comp_red = np.vstack((twoctr, twocmr)).T\n",
    "\n",
    "twoctb = twocb[:,0]-57982.5285\n",
    "twocmb = twocb[:,1]\n",
    "two_comp_blue = np.vstack((twoctb, twocmb)).T\n",
    "\n",
    "threect = threec[:,0]-57982.5285\n",
    "threecm = threec[:,1]\n",
    "three_comp = np.vstack((threect, threecm)).T\n",
    "\n",
    "threectb = threecb[:,0]-57982.5285\n",
    "threecmb = threecb[:,1]\n",
    "three_comp_blue = np.vstack((threectb, threecmb)).T"
   ]
  },
  {
   "cell_type": "code",
   "execution_count": 129,
   "metadata": {},
   "outputs": [],
   "source": [
    "GW = np.load('data_GW170817_from_json.npz')\n",
    "GW_m = GW['mag']\n",
    "GW_t = GW['time']\n",
    "GW_mag = GW_m[61:]\n",
    "GW_time = GW_t[61:]-57982.993\n",
    "pp,qq,rr,ss,tt,uu,vv = np.polyfit(GW_time, GW_mag, 6)\n",
    "GW = pp*(GW_time)**6 + qq*(GW_time)**5 + rr*(GW_time)**4 + ss*(GW_time)**3 + tt*(GW_time)**2 + uu*(GW_time) + vv"
   ]
  },
  {
   "cell_type": "code",
   "execution_count": 130,
   "metadata": {},
   "outputs": [],
   "source": [
    "day1 = [np.interp(0, GW_time, GW)]\n",
    "day2 = [np.interp(1, GW_time, GW)]\n",
    "day3 = [np.interp(2, GW_time, GW)]\n",
    "day4 = [np.interp(3, GW_time, GW)]\n",
    "day5 = [np.interp(4, GW_time, GW)]\n",
    "day6 = [np.interp(5, GW_time, GW)]\n",
    "day7 = [np.interp(6, GW_time, GW)]\n",
    "day8 = [np.interp(7, GW_time, GW)]\n",
    "day9 = [np.interp(8, GW_time, GW)]\n",
    "day10 = [np.interp(9, GW_time, GW)]\n",
    "day11 = [np.interp(10, GW_time, GW)]\n",
    "day12 = [np.interp(11, GW_time, GW)]\n",
    "day13 = [np.interp(12, GW_time, GW)]\n",
    "day14 = [np.interp(13, GW_time, GW)]\n",
    "day15 = [np.interp(14, GW_time, GW)]\n",
    "day16 = [np.interp(15, GW_time, GW)]\n",
    "day17 = [np.interp(16, GW_time, GW)]\n",
    "day18 = [np.interp(17, GW_time, GW)]\n",
    "\n",
    "days = [0,1,2,3,4,5,6,7,8,9,10,11,12,13,14,15,16,17]\n",
    "obs = np.concatenate((day1, day2, day3, day4, day5, day6, day7, day8, day9, day10, day11, day12, day13, day14, day15, day16, day17, day18))"
   ]
  },
  {
   "cell_type": "code",
   "execution_count": 131,
   "metadata": {},
   "outputs": [],
   "source": [
    "GW_model = np.vstack((days,obs)).T"
   ]
  },
  {
   "cell_type": "code",
   "execution_count": 133,
   "metadata": {},
   "outputs": [],
   "source": [
    "np.savez('light_curves.npz', two=two_comp, two_r=two_comp_red, two_b=two_comp_blue, three=three_comp, three_b=three_comp_blue, KW=KW_NSBH, BR=BR_NSBH, GW=GW_model)"
   ]
  }
 ],
 "metadata": {
  "kernelspec": {
   "display_name": "Python 3",
   "language": "python",
   "name": "python3"
  },
  "language_info": {
   "codemirror_mode": {
    "name": "ipython",
    "version": 3
   },
   "file_extension": ".py",
   "mimetype": "text/x-python",
   "name": "python",
   "nbconvert_exporter": "python",
   "pygments_lexer": "ipython3",
   "version": "3.7.3"
  }
 },
 "nbformat": 4,
 "nbformat_minor": 2
}
