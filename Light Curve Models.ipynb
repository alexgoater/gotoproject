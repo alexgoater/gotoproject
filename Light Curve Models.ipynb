{
 "cells": [
  {
   "cell_type": "markdown",
   "metadata": {},
   "source": [
    "# Light Curve Models"
   ]
  },
  {
   "cell_type": "code",
   "execution_count": null,
   "metadata": {},
   "outputs": [],
   "source": [
    "import numpy as np\n",
    "import matplotlib.pyplot as plt"
   ]
  },
  {
   "cell_type": "markdown",
   "metadata": {},
   "source": [
    "### Two and Three Component BNS Kilonova Light Curves at 40 Mpc in AB:"
   ]
  },
  {
   "cell_type": "code",
   "execution_count": null,
   "metadata": {},
   "outputs": [],
   "source": [
    "# Here we define 5 models of Kilonova light curves by Cowperthwaite et al. using data obtained from the Berger \n",
    "# Time-Domain Research Group at Harvard University. These models are based upon the optical counterpart of GW170817 \n",
    "# with a distance at about 40 Mpc. Solid lines represent two component models and dashed represent three component \n",
    "# models. (AB Mag)\n",
    "\n",
    "# I have assumed an AB magnitude scale for all of the different models as this is what was stated in the papers. \n",
    "# For the papers that didn't state the system they used (AB or Vega), there is a slight potential that the scale \n",
    "# will be out by about ~ 0.2 if the Vega magnitude system was used. This is a risk mitiagtion factor."
   ]
  },
  {
   "cell_type": "code",
   "execution_count": null,
   "metadata": {},
   "outputs": [],
   "source": [
    "lc = np.load('light_curves.npz')\n",
    "cmp2 = lc['two']\n",
    "cmp2r = lc['two_r']\n",
    "cmp2b = lc['two_b']\n",
    "cmp3 = lc['three']\n",
    "cmp3b = lc['three_b']\n",
    "KW = lc['KW']\n",
    "BR = lc['BR']\n",
    "GW = lc['GW']"
   ]
  },
  {
   "cell_type": "code",
   "execution_count": null,
   "metadata": {},
   "outputs": [],
   "source": [
    "plt.plot(cmp2[:,0], cmp2[:,1], color='black')\n",
    "plt.gca().invert_yaxis()\n",
    "plt.xlabel('Days')\n",
    "plt.ylabel('App mag (r band)')"
   ]
  },
  {
   "cell_type": "code",
   "execution_count": null,
   "metadata": {},
   "outputs": [],
   "source": [
    "plt.plot(cmp2r[:,0], cmp2r[:,1], color='red')\n",
    "plt.gca().invert_yaxis()\n",
    "plt.xlabel('Days')\n",
    "plt.ylabel('App mag (r band)')\n",
    "\n",
    "# This red component's apparent magnitude ranges from around 17-28 and so only half of the data plotted here will\n",
    "# actually be useful when considering the observations GOTO will make."
   ]
  },
  {
   "cell_type": "code",
   "execution_count": null,
   "metadata": {},
   "outputs": [],
   "source": [
    "plt.plot(cmp2b[:,0], cmp2b[:,1], color='blue')\n",
    "plt.gca().invert_yaxis()\n",
    "plt.xlabel('Days')\n",
    "plt.ylabel('App mag (r band)')\n",
    "\n",
    "# This blue component is in the range of magnitudes that GOTO will observe at (17-23) and so makes it an ideal model."
   ]
  },
  {
   "cell_type": "code",
   "execution_count": null,
   "metadata": {},
   "outputs": [],
   "source": [
    "plt.plot(cmp3[:,0], cmp3[:,1], color='black', linestyle='dashed')\n",
    "plt.gca().invert_yaxis()\n",
    "plt.xlabel('Days')\n",
    "plt.ylabel('App mag (r band)')"
   ]
  },
  {
   "cell_type": "code",
   "execution_count": null,
   "metadata": {
    "scrolled": true
   },
   "outputs": [],
   "source": [
    "plt.plot(cmp3b[:,0], cmp3b[:,1], color='blue', linestyle='dashed')\n",
    "plt.gca().invert_yaxis()\n",
    "plt.xlabel('Days')\n",
    "plt.ylabel('App mag (r band)')\n",
    "\n",
    "# For some reason, both the blue, red and purple components of the three component model all have the same \n",
    "# r band data for both time and apparent magnitude. This shouldn't be the case, especially when you consider the\n",
    "# data in the two component model."
   ]
  },
  {
   "cell_type": "markdown",
   "metadata": {},
   "source": [
    "### NS-BH Kilonova Light Curves at 400 Mpc and 230 Mpc, respectively, in AB:"
   ]
  },
  {
   "cell_type": "code",
   "execution_count": null,
   "metadata": {},
   "outputs": [],
   "source": [
    "# Here we define the Kawaguchi et al. model for a Kilonova light curve from a NS-BH collision at 400 Mpc. (AB Mag)"
   ]
  },
  {
   "cell_type": "code",
   "execution_count": null,
   "metadata": {},
   "outputs": [],
   "source": [
    "a,b,c,d = np.polyfit(KW[:,0], KW[:,1], 3)\n",
    "\n",
    "plt.scatter(KW[:,0], KW[:,1], marker='x', color='green')\n",
    "plt.plot(KW[:,0], a*KW[:,0]**3 + b*KW[:,0]**2 + c*KW[:,0] + d, color='green')\n",
    "plt.gca().invert_yaxis()\n",
    "plt.xlabel('Days')\n",
    "plt.ylabel('App mag (r band)')"
   ]
  },
  {
   "cell_type": "code",
   "execution_count": null,
   "metadata": {},
   "outputs": [],
   "source": [
    "# Here we define the Barbieri et al. model for a Kilonova light curve from a NS-BH collision at 230 Mpc. (AB Mag)"
   ]
  },
  {
   "cell_type": "code",
   "execution_count": null,
   "metadata": {},
   "outputs": [],
   "source": [
    "e,f,g,h,i,j,k = np.polyfit(BR[:,0], BR[:,1], 6)\n",
    "\n",
    "plt.scatter(BR[:,0], BR[:,1], marker='x', color='orange')\n",
    "plt.plot(BR[:,0], e*BR[:,0]**6 + f*BR[:,0]**5 + g*BR[:,0]**4 + h*BR[:,0]**3 + i*BR[:,0]**2 + j*BR[:,0] + k, color='orange')\n",
    "plt.gca().invert_yaxis()\n",
    "plt.xlabel('Days')\n",
    "plt.ylabel('App mag (r band)')"
   ]
  },
  {
   "cell_type": "markdown",
   "metadata": {},
   "source": [
    "### GW170817 BNS Kilonova Observed Light Curve at 40 Mpc in AB:"
   ]
  },
  {
   "cell_type": "code",
   "execution_count": null,
   "metadata": {},
   "outputs": [],
   "source": [
    "# Here we define the observed Kilonova light curve for GW170817 at a distance of 40 Mpc."
   ]
  },
  {
   "cell_type": "code",
   "execution_count": null,
   "metadata": {},
   "outputs": [],
   "source": [
    "#e,f,g,h,i,j,k = np.polyfit((GW_time[1:12]-57790.358), GW_mag[1:12], 6)\n",
    "#plt.plot((GW_time[1:12]-57790.358), e*(GW_time[1:12]-57790.358)**6 + f*(GW_time[1:12]-57790.358)**5 + g*(GW_time[1:12]-57790.358)**4 + h*(GW_time[1:12]-57790.358)**3 + i*(GW_time[1:12]-57790.358)**2 + j*(GW_time[1:12]-57790.358) + k, color='cyan')\n",
    "#plt.scatter((GW_time[1:12]-57790.358), GW_mag[1:12])\n",
    "#plt.gca().invert_yaxis()"
   ]
  },
  {
   "cell_type": "code",
   "execution_count": null,
   "metadata": {},
   "outputs": [],
   "source": [
    "#e,f,g,h,i,j,k = np.polyfit((GW_time[16:30]-57840.217), GW_mag[16:30], 6)\n",
    "#plt.plot((GW_time[16:30]-57840.217), e*(GW_time[16:30]-57840.217)**6 + f*(GW_time[16:30]-57840.217)**5 + g*(GW_time[16:30]-57840.217)**4 + h*(GW_time[16:30]-57840.217)**3 + i*(GW_time[16:30]-57840.217)**2 + j*(GW_time[16:30]-57840.217) + k, color='cyan')\n",
    "#plt.scatter((GW_time[16:30]-57840.217), GW_mag[16:30])\n",
    "#plt.gca().invert_yaxis()"
   ]
  },
  {
   "cell_type": "code",
   "execution_count": null,
   "metadata": {},
   "outputs": [],
   "source": [
    "#e,f,g,h,i,j,k = np.polyfit((GW_time[30:44]-57864.154), GW_mag[30:44], 6)\n",
    "#plt.plot((GW_time[30:44]-57864.154), e*(GW_time[30:44]-57864.154)**6 + f*(GW_time[30:44]-57864.154)**5 + g*(GW_time[30:44]-57864.154)**4 + h*(GW_time[30:44]-57864.154)**3 + i*(GW_time[30:44]-57864.154)**2 + j*(GW_time[30:44]-57864.154) + k, color='cyan')\n",
    "#plt.scatter((GW_time[30:44]-57864.154), GW_mag[30:44])\n",
    "#plt.gca().invert_yaxis()"
   ]
  },
  {
   "cell_type": "code",
   "execution_count": null,
   "metadata": {},
   "outputs": [],
   "source": [
    "#e,f,g = np.polyfit((GW_time[44:50]-57888.262), GW_mag[44:50], 2)\n",
    "#plt.plot((GW_time[44:50]-57888.262), e*(GW_time[44:50]-57888.262)**2 + f*(GW_time[44:50]-57888.262) + g, color='cyan')\n",
    "#plt.scatter((GW_time[44:50]-57888.262), GW_mag[44:50])\n",
    "#plt.gca().invert_yaxis()"
   ]
  },
  {
   "cell_type": "code",
   "execution_count": null,
   "metadata": {},
   "outputs": [],
   "source": [
    "#e,f,g,h,i,j = np.polyfit((GW_time[50:57]-57901.215), GW_mag[50:57], 5)\n",
    "#plt.plot((GW_time[50:57]-57901.215), e*(GW_time[50:57]-57901.215)**5 + f*(GW_time[50:57]-57901.215)**4 + g*(GW_time[50:57]-57901.215)**3 + h*(GW_time[50:57]-57901.215)**2 + i*(GW_time[50:57]-57901.215) + j, color='cyan')\n",
    "#plt.scatter((GW_time[50:57]-57901.215), GW_mag[50:57])\n",
    "#plt.gca().invert_yaxis()"
   ]
  },
  {
   "cell_type": "code",
   "execution_count": null,
   "metadata": {},
   "outputs": [],
   "source": [
    "#pp,qq,rr,ss,tt,uu,vv = np.polyfit((GW_time[61:]-57982.993), GW_mag[61:], 6)\n",
    "plt.plot(GW[:,0], GW[:,1], color='fuchsia')\n",
    "plt.gca().invert_yaxis()"
   ]
  },
  {
   "cell_type": "code",
   "execution_count": null,
   "metadata": {},
   "outputs": [],
   "source": [
    "# Combining all the plots together."
   ]
  },
  {
   "cell_type": "code",
   "execution_count": null,
   "metadata": {},
   "outputs": [],
   "source": [
    "plt.figure(figsize=(9,7))\n",
    "plt.plot(cmp2[:,0], cmp2[:,1], color='black', label='Two Component Model')\n",
    "plt.plot(cmp2r[:,0], cmp2r[:,1], color='red', label='Red Two Component Model')\n",
    "plt.plot(cmp2b[:,0], cmp2b[:,1], color='blue', label='Blue Two Component Model')\n",
    "plt.plot(cmp3[:,0], cmp3[:,1], color='black', linestyle='dashed', label='Three Component Model')\n",
    "plt.plot(cmp3b[:,0], cmp3b[:,1], color='blue', linestyle='dashed', label='Blue Three Component Model')\n",
    "plt.plot(KW[:,0], a*KW[:,0]**3 + b*KW[:,0]**2 + c*KW[:,0] + d, color='green', label='Kawaguchi et al.')\n",
    "plt.plot(BR[:,0], e*BR[:,0]**6 + f*BR[:,0]**5 + g*BR[:,0]**4 + h*BR[:,0]**3 + i*BR[:,0]**2 + j*BR[:,0] + k, color='orange', label='Barbieri et al.')\n",
    "plt.plot(GW[:,0], GW[:,1], color='fuchsia', label='GW170817')\n",
    "plt.xlabel('Days')\n",
    "plt.ylabel('App mag (r band)')\n",
    "plt.ylim(24, 17)\n",
    "plt.xlim(0,21)\n",
    "plt.grid()\n",
    "plt.legend()"
   ]
  },
  {
   "cell_type": "code",
   "execution_count": null,
   "metadata": {},
   "outputs": [],
   "source": [
    "plt.figure(figsize=(9,7))\n",
    "plt.scatter(cmp2[:,0], cmp2[:,1], color='black', label='Two Component Model')\n",
    "plt.scatter(cmp2r[:,0], cmp2r[:,1], color='red', label='Red Two Component Model')\n",
    "plt.scatter(cmp2b[:,0], cmp2b[:,1], color='blue', label='Blue Two Component Model')\n",
    "plt.scatter(cmp3[:,0], cmp3[:,1], color='black', linestyle='dashed', label='Three Component Model')\n",
    "plt.scatter(cmp3b[:,0], cmp3b[:,1], color='blue', linestyle='dashed', label='Blue Three Component Model')\n",
    "plt.scatter(KW[:,0], a*KW[:,0]**3 + b*KW[:,0]**2 + c*KW[:,0] + d, color='green', label='Kawaguchi et al.')\n",
    "plt.scatter(BR[:,0], e*BR[:,0]**6 + f*BR[:,0]**5 + g*BR[:,0]**4 + h*BR[:,0]**3 + i*BR[:,0]**2 + j*BR[:,0] + k, color='orange', label='Barbieri et al.')\n",
    "plt.scatter(GW[:,0], GW[:,1], color='fuchsia', label='GW170817')\n",
    "plt.xlabel('Days')\n",
    "plt.ylabel('App mag (r band)')\n",
    "plt.ylim(24, 17)\n",
    "plt.xlim(0,21)\n",
    "plt.grid()\n",
    "plt.legend()"
   ]
  },
  {
   "cell_type": "markdown",
   "metadata": {},
   "source": [
    "### Scaling apparent magnitude with respect to distance:"
   ]
  },
  {
   "cell_type": "code",
   "execution_count": null,
   "metadata": {},
   "outputs": [],
   "source": [
    "# Converting apparent magnitudes into absolute magnitudes in order to scale distance."
   ]
  },
  {
   "cell_type": "code",
   "execution_count": null,
   "metadata": {},
   "outputs": [],
   "source": [
    "# For the Kawaguchi et al. model, d = 400 Mpc.\n",
    "\n",
    "#Abs_mag1 = App_mag1 - (5*np.log10(400000000)) + 5\n",
    "#Scl_App_mag1 = Abs_mag1 + (5*np.log10(40000000)) - 5 \n",
    "Scale1 = KW[:,1] + 5*np.log10(40/400) # Scaling this model to 40 Mpc."
   ]
  },
  {
   "cell_type": "code",
   "execution_count": null,
   "metadata": {
    "scrolled": true
   },
   "outputs": [],
   "source": [
    "# Comparing this to the original model at 400 Mpc.\n",
    "\n",
    "l,m,n,o,p,q,r,s = np.polyfit(KW[:,0], Scale1, 7)\n",
    "plt.scatter(KW[:,0], Scale1, marker='x', color='green')\n",
    "plt.plot(KW[:,0], l*KW[:,0]**7 + m*KW[:,0]**6 + n*KW[:,0]**5 + o*KW[:,0]**4 + p*KW[:,0]**3 + q*KW[:,0]**2 + r*KW[:,0] + s, color='green')\n",
    "plt.gca().invert_yaxis()\n",
    "plt.xlabel('Days')\n",
    "plt.ylabel('App mag (r band)')"
   ]
  },
  {
   "cell_type": "code",
   "execution_count": null,
   "metadata": {},
   "outputs": [],
   "source": [
    "# For the Barbieri et al. model, d = 230 Mpc.\n",
    "\n",
    "#Abs_mag2 = App_mag2 - (5*np.log10(230000000)) + 5\n",
    "#Scl_App_mag2 = Abs_mag2 + (5*np.log10(40000000)) - 5 \n",
    "Scale2 = BR[:,1] + 5*np.log10(40/230) # Scaling this model to 40 Mpc."
   ]
  },
  {
   "cell_type": "code",
   "execution_count": null,
   "metadata": {},
   "outputs": [],
   "source": [
    "# Comparing this to the original model at 230 Mpc.\n",
    "\n",
    "t,u,v,w,x,y,z = np.polyfit(BR[:,0], Scale2, 6)\n",
    "plt.scatter(BR[:,0], Scale2, marker='x', color='orange')\n",
    "plt.plot(BR[:,0], t*BR[:,0]**6 + u*BR[:,0]**5 + v*BR[:,0]**4 + w*BR[:,0]**3 + x*BR[:,0]**2 + y*BR[:,0] + z, color='orange')\n",
    "plt.gca().invert_yaxis()\n",
    "plt.xlabel('Days')\n",
    "plt.ylabel('App mag (r band)')"
   ]
  },
  {
   "cell_type": "markdown",
   "metadata": {},
   "source": [
    "### Models all scaled at 40 Mpc:"
   ]
  },
  {
   "cell_type": "code",
   "execution_count": null,
   "metadata": {},
   "outputs": [],
   "source": [
    "plt.style.use(\"default\")\n",
    "plt.figure(figsize=(9,7))\n",
    "plt.plot(cmp2[:,0], cmp2[:,1], color='black', label='Two Component Model')\n",
    "plt.plot(cmp2r[:,0], cmp2r[:,1], color='red', label='Red Two Component Model')\n",
    "plt.plot(cmp2b[:,0], cmp2b[:,1], color='blue', label='Blue Two Component Model')\n",
    "plt.plot(cmp3[:,0], cmp3[:,1], color='black', linestyle='dashed', label='Three Component Model')\n",
    "plt.plot(cmp3b[:,0], cmp3b[:,1], color='blue', linestyle='dashed', label='Blue Three Component Model')\n",
    "plt.plot(KW[:,0], l*KW[:,0]**7 + m*KW[:,0]**6 + n*KW[:,0]**5 + o*KW[:,0]**4 + p*KW[:,0]**3 + q*KW[:,0]**2 + r*KW[:,0] + s, color='green', label='Kawaguchi et al. 40Mpc')\n",
    "plt.plot(BR[:,0], t*BR[:,0]**6 + u*BR[:,0]**5 + v*BR[:,0]**4 + w*BR[:,0]**3 + x*BR[:,0]**2 + y*BR[:,0] + z, color='orange', label='Barbieri et al. 40Mpc')\n",
    "plt.plot(GW[:,0], GW[:,1], color='fuchsia', label='GW170817')\n",
    "plt.xlabel('Days')\n",
    "plt.ylabel('Apparent Magnitude (r band)')\n",
    "plt.ylim(24, 17)\n",
    "plt.xlim(0,21)\n",
    "plt.grid()\n",
    "plt.legend()\n",
    "plt.savefig('lc40.png')"
   ]
  },
  {
   "cell_type": "markdown",
   "metadata": {},
   "source": [
    "### Models all scaled at 250 Mpc:"
   ]
  },
  {
   "cell_type": "code",
   "execution_count": null,
   "metadata": {},
   "outputs": [],
   "source": [
    "# Scaling two and three component models to 250 Mpc.\n",
    "\n",
    "cmp2_250 = cmp2[:,1] + 5*np.log10(250/40)\n",
    "cmp2r_250 = cmp2r[:,1] + 5*np.log10(250/40)\n",
    "cmp2b_250 = cmp2b[:,1] + 5*np.log10(250/40)\n",
    "cmp3_250 = cmp3[:,1] + 5*np.log10(250/40)\n",
    "cmp3b_250 = cmp3b[:,1] + 5*np.log10(250/40)"
   ]
  },
  {
   "cell_type": "code",
   "execution_count": null,
   "metadata": {},
   "outputs": [],
   "source": [
    "# Scaling the Kawaguchi et al. model to 250 Mpc.\n",
    "\n",
    "Scale3 = KW[:,1] + 5*np.log10(250/400)\n",
    "\n",
    "aa,bb,cc,dd,ee,ff,gg,hh = np.polyfit(KW[:,0], Scale3, 7)\n",
    "plt.scatter(KW[:,0], Scale3, marker='x', color='green')\n",
    "plt.plot(KW[:,0], aa*KW[:,0]**7 + bb*KW[:,0]**6 + cc*KW[:,0]**5 + dd*KW[:,0]**4 + ee*KW[:,0]**3 + ff*KW[:,0]**2 + gg*KW[:,0] + hh, color='green')\n",
    "plt.gca().invert_yaxis()\n",
    "plt.xlabel('Days')\n",
    "plt.ylabel('App mag (r band)')"
   ]
  },
  {
   "cell_type": "code",
   "execution_count": null,
   "metadata": {},
   "outputs": [],
   "source": [
    "# Scaling the Barbieri et al. model to 250 Mpc.\n",
    "\n",
    "Scale4 = BR[:,1] + 5*np.log10(250/230) \n",
    "\n",
    "ii,jj,kk,ll,mm,nn,oo = np.polyfit(BR[:,0], Scale4, 6)\n",
    "plt.scatter(BR[:,0], Scale4, marker='x', color='orange')\n",
    "plt.plot(BR[:,0], ii*BR[:,0]**6 + jj*BR[:,0]**5 + kk*BR[:,0]**4 + ll*BR[:,0]**3 + mm*BR[:,0]**2 + nn*BR[:,0] + oo, color='orange')\n",
    "plt.gca().invert_yaxis()\n",
    "plt.xlabel('Days')\n",
    "plt.ylabel('App mag (r band)')"
   ]
  },
  {
   "cell_type": "code",
   "execution_count": null,
   "metadata": {},
   "outputs": [],
   "source": [
    "# Scaling GW170817 to 250 Mpc.\n",
    "\n",
    "GW_250 = GW[:,1] + 5*np.log10(250/40)\n",
    "ww,xx,yy,zz,ab,ac,ad = np.polyfit(GW[:,0], GW_250, 6)"
   ]
  },
  {
   "cell_type": "code",
   "execution_count": null,
   "metadata": {},
   "outputs": [],
   "source": [
    "plt.figure(figsize=(9,7))\n",
    "plt.plot(cmp2[:,0], cmp2_250, color='black', label='Two Component Model')\n",
    "plt.plot(cmp2r[:,0], cmp2r_250, color='red', label='Red Two Component Model')\n",
    "plt.plot(cmp2b[:,0], cmp2b_250, color='blue', label='Blue Two Component Model')\n",
    "plt.plot(cmp3[:,0], cmp3_250, color='black', linestyle='dashed', label='Three Component Model')\n",
    "plt.plot(cmp3b[:,0], cmp3b_250, color='blue', linestyle='dashed', label='Blue Three Component Model')\n",
    "plt.plot(KW[:,0], aa*KW[:,0]**7 + bb*KW[:,0]**6 + cc*KW[:,0]**5 + dd*KW[:,0]**4 + ee*KW[:,0]**3 + ff*KW[:,0]**2 + gg*KW[:,0] + hh, color='green', label='Kawaguchi et al. 250Mpc')\n",
    "plt.plot(BR[:,0], ii*BR[:,0]**6 + jj*BR[:,0]**5 + kk*BR[:,0]**4 + ll*BR[:,0]**3 + mm*BR[:,0]**2 + nn*BR[:,0] + oo, color='orange', label='Barbieri et al. 250Mpc')\n",
    "plt.plot(GW[:,0], ww*(GW[:,0])**6 + xx*(GW[:,0])**5 + yy*(GW[:,0])**4 + zz*(GW[:,0])**3 + ab*(GW[:,0])**2 + ac*(GW[:,0]) + ad, color='fuchsia', label='GW170817 250Mpc')\n",
    "plt.xlabel('Days')\n",
    "plt.ylabel('App mag (r band)')\n",
    "plt.gca().invert_yaxis()\n",
    "plt.xlim(0,21)\n",
    "plt.grid()\n",
    "plt.legend()"
   ]
  }
 ],
 "metadata": {
  "kernelspec": {
   "display_name": "Python 3",
   "language": "python",
   "name": "python3"
  },
  "language_info": {
   "codemirror_mode": {
    "name": "ipython",
    "version": 3
   },
   "file_extension": ".py",
   "mimetype": "text/x-python",
   "name": "python",
   "nbconvert_exporter": "python",
   "pygments_lexer": "ipython3",
   "version": "3.7.3"
  }
 },
 "nbformat": 4,
 "nbformat_minor": 2
}
