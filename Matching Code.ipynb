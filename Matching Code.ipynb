{
 "cells": [
  {
   "cell_type": "code",
   "execution_count": 125,
   "metadata": {},
   "outputs": [],
   "source": [
    "import numpy as np\n",
    "import matplotlib.pyplot as plt\n",
    "np.set_printoptions(suppress=True)"
   ]
  },
  {
   "cell_type": "code",
   "execution_count": 126,
   "metadata": {},
   "outputs": [],
   "source": [
    "#Create functions.\n",
    "\n",
    "#Function that creates an 'observation' of the different light curve models by taking the magnitudes \n",
    "#corresponding to 24 hour cadence starting from 0.5 days.\n",
    "def make_lightcurve(t, mod):\n",
    "    mag = np.zeros(len(t)) \n",
    "    for ind,i in enumerate(t):\n",
    "        a = np.interp(i, model[mod][:,0], model[mod][:,1])\n",
    "        mag[ind] = a\n",
    "    return(mag)\n",
    "\n",
    "#Function that scales these magnitudes with distance so that they are within a range of the expected 30% error in\n",
    "#the distance parameter from the GW source.\n",
    "def make_scale_model(mag, rand_dist_range):\n",
    "    mag_scale=[]\n",
    "    for i in range(len(rand_dist_range)):\n",
    "        obs = mag + 5*np.log10((rand_dist_range[i])/(dist_all_models)) #this comes from m-M = 5log(d) - 5\n",
    "        mag_scale.append(obs)\n",
    "    return(mag_scale)\n",
    "\n",
    "#Function that introduces an error of ±0.25 onto the magnitudes that would come from the optical telescope.\n",
    "def introduce_telescope_err(mag_scale):\n",
    "    corrected_mags = []\n",
    "    rand_err = np.random.uniform(-0.25, 0.25, len(mag_scale[0]))\n",
    "    for mags in mag_scale:\n",
    "        corrected_mags.append(mags + rand_err) #adds same 14 errors to the 14 magnitudes of all the scaled models.\n",
    "    \n",
    "    #Creating the cutoff magnitude for the all the models. Currently removed whilst fixing errors.\n",
    "    #newarr=[]    \n",
    "    #for j in range(len(corrected_mags)):\n",
    "        #corrected_mags[j][corrected_mags[j] > cutoff_mag] = -1 #if the value of the magnitude in a model is greater\n",
    "                                                               #than 21 (cutoff) then set that element = -1.\n",
    "        #num = np.where(corrected_mags[j]==-1) #finds all elements in corrected mags where GOTO cannot observe them.\n",
    "        #if len(num[0]) > 10: #GOTO has to observe at least 4 points out of 14 for the model to be observed. \n",
    "            #print('Unobservable')\n",
    "    return(corrected_mags)\n",
    "\n",
    "#Function to create a chi squared distribution.\n",
    "def make_chi_squared(mag_err, mag):\n",
    "    all_chi2 = []\n",
    "    for mags in mag_err:\n",
    "        chi2 = np.sum(np.square(mags - mag)/mag)\n",
    "        all_chi2.append(chi2)\n",
    "    return(all_chi2)\n",
    "\n",
    "#Function to return a dictionary with the minimmum chi value and the model related to this minimum chi value.\n",
    "#This is currently where the error is.\n",
    "def return_best_model(dictionary):\n",
    "    min_chi2_models = np.ones(len(dictionary))\n",
    "    for i in range(0,len(dictionary)):\n",
    "        min_chi2_models[i] = min(dictionary[str(i)])\n",
    "\n",
    "    val = min_chi2_models.min()\n",
    "    ind = min_chi2_models.argmin()\n",
    "    #min_chi = min(d.items(), key=lambda x: x[1]) #gives key and items where lowest chisquared is found.\n",
    "    #lowest_chi = min(min_chi[1]) #takes the lowest value in the items of the key with the lowest chi squared value.\n",
    "    #related_model = int(min_chi[0]) #gives the key of the lowest chisquared.\n",
    "    return(val, ind)"
   ]
  },
  {
   "cell_type": "code",
   "execution_count": 127,
   "metadata": {
    "scrolled": true
   },
   "outputs": [],
   "source": [
    "#Load in models.\n",
    "\n",
    "lc = np.load('light_curves.npz')\n",
    "m0 = lc['two']\n",
    "m1 = lc['two_r']\n",
    "m2 = lc['two_b']\n",
    "m3 = lc['three']\n",
    "m4 = lc['three_b']\n",
    "m5 = lc['KW']\n",
    "m6 = lc['BR']\n",
    "m7 = lc['GW']\n",
    "\n",
    "#Define parameters.\n",
    "\n",
    "N = 100 #number of kn models in Universe. Currently reduced at the moment whilst fixing errors\n",
    "\n",
    "model = [m0, m1 ,m2 ,m3 ,m4 ,m5 ,m6 ,m7] #array of all the kn models.\n",
    "time = [0.5,1.5,2.5,3.5,4.5,5.5,6.5,7.5,8.5,9.5,10.5,11.5,12.5,13.5] #cadence of the observations in days.\n",
    "\n",
    "dist = np.random.uniform(40,200,N) #Mpc #creates random distance between 40-200 Mpc (range we expect to detect KN).\n",
    "dist_all_models = 40 #Mpc #reference distance when scaling the magnitudes.\n",
    "low_dist_err = 0.7 #min distance from the 30% error range.\n",
    "high_dist_err = 1.3 #max distance from the 30% error range.\n",
    "\n",
    "cutoff_mag = 21 #GOTO will not be able to observe anything beyond this magnitude."
   ]
  },
  {
   "cell_type": "code",
   "execution_count": 128,
   "metadata": {},
   "outputs": [],
   "source": [
    "#Simulating N kilonova models in the universe.\n",
    "\n",
    "#List of empty arrays used to append values in the loop.\n",
    "array_kns = []\n",
    "all_kn_distance = []\n",
    "model_distance = []\n",
    "min_chi2 = []\n",
    "best_model = []\n",
    "ind_chi2 = []\n",
    "dist_ind_value = []\n",
    "\n",
    "for j in range(N):\n",
    "    \n",
    "    #Create kn in universe.\n",
    "    x = np.random.randint(0, 7) #chooses a random model out of the 8.\n",
    "    gen_kn = make_lightcurve(time, x) #universe creates 'observation' of model with magnitudes taken at cadences.\n",
    "    kn = make_scale_model(gen_kn, [dist[j]]) #places this observation model at a random distance.\n",
    "    \n",
    "    #Record model of kn chosen to store in dictionary later.\n",
    "    array_kns.append(x)\n",
    "    \n",
    "    #Work out step of model over distance to give a range between min and max 30% error range.\n",
    "    dist_range = np.arange(np.floor(low_dist_err*dist[j]), np.ceil(high_dist_err*dist[j]), 1)\n",
    "    \n",
    "    #Use functions defined and loop them over all models.\n",
    "    chisquare_models = []\n",
    "    for i in range(len(model)):\n",
    "        magnitude = make_lightcurve(time, i) #inserting model number from 0-7 (models 1-8) and times for cadenece.\n",
    "        scale = make_scale_model(magnitude, dist_range) #inserting the returned 'mag' from previous magnitude \n",
    "                                                        #function and the distance range to scale models over.\n",
    "        error = introduce_telescope_err(scale) #inserting the scaled magnitudes from the scale function.\n",
    "        chisquare = make_chi_squared(error, kn) #inserting the corrected magnitudes and the magnitudes from\n",
    "                                                #the original kn model.\n",
    "        chisquare_models.append(chisquare) #appending the chisquare values for each of the 8 models\n",
    "\n",
    "    #Save chisquared data for each model in a dictionary.\n",
    "    chi_dict = {'0':chisquare_models[0], '1':chisquare_models[1], '2':chisquare_models[2], '3':chisquare_models[3], '4':chisquare_models[4], '5':chisquare_models[5], '6':chisquare_models[6], '7':chisquare_models[7]}\n",
    "    \n",
    "    #Using return best model function to find the min chi and best model fit for all the models over every iteration.\n",
    "    return_best_model(chi_dict)\n",
    "    #key_items_min_chi = return_best_model(chi_dict)[0]\n",
    "    #print(key_items_min_chi)\n",
    "    lowest_chi = return_best_model(chi_dict)[0]\n",
    "    #print(lowest_chi)\n",
    "    related_model = return_best_model(chi_dict)[1]\n",
    "    #print(related_model)\n",
    "    min_chi2.append(lowest_chi)\n",
    "    #print(min_chi2)\n",
    "    best_model.append(related_model)\n",
    "    #print(best_model)\n",
    "    \n",
    "    #Finding the index of the minimum chi value to find out where the distance of the model is.\n",
    "    #chi_index_min = np.argmin(chisquare_models[int(related_model)])\n",
    "    #ind_chi2.append(chi_index_min)\n",
    "    #dist_range_index = dist_range[int(chi_index_min)]\n",
    "    #dist_ind_value.append(dist_range_index)\n",
    "    \n",
    "    #Looping over dist_all_models N times for kn_info dict.\n",
    "    #all_kn_distance.append(int(dist[j]))"
   ]
  },
  {
   "cell_type": "code",
   "execution_count": 129,
   "metadata": {},
   "outputs": [
    {
     "name": "stdout",
     "output_type": "stream",
     "text": [
      "{'KN model': [4, 1, 4, 1, 2, 3, 3, 6, 4, 5, 2, 0, 3, 6, 0, 2, 0, 2, 1, 1, 4, 0, 1, 1, 0, 4, 4, 2, 1, 4, 5, 3, 5, 1, 3, 2, 6, 5, 1, 0, 2, 3, 0, 6, 2, 6, 3, 6, 2, 1, 1, 6, 3, 5, 1, 6, 1, 4, 6, 1, 2, 4, 1, 6, 3, 6, 2, 1, 0, 1, 0, 6, 2, 5, 6, 1, 2, 0, 4, 0, 2, 4, 1, 6, 4, 4, 3, 5, 3, 3, 0, 0, 0, 1, 1, 6, 4, 2, 4, 4], 'Best fit model': [4, 1, 4, 1, 2, 3, 3, 6, 4, 5, 2, 0, 3, 6, 0, 2, 0, 2, 1, 1, 4, 0, 1, 1, 0, 4, 4, 2, 1, 4, 5, 3, 5, 1, 3, 2, 6, 5, 1, 0, 2, 3, 0, 6, 2, 6, 3, 6, 2, 1, 1, 6, 3, 5, 1, 6, 1, 4, 6, 1, 2, 4, 1, 6, 3, 6, 2, 1, 0, 1, 0, 6, 2, 5, 6, 1, 2, 0, 4, 0, 2, 4, 1, 6, 4, 4, 3, 5, 3, 3, 0, 0, 0, 1, 1, 6, 4, 2, 4, 4], 'Minimum Chi2': [0.008121672684245079, 0.008398166564445727, 0.008425659452291345, 0.012168138312060182, 0.01551020857192575, 0.012226621288685287, 0.013387233685069902, 0.011266876428145759, 0.0087265191470434, 0.01146137961581285, 0.012387399436254743, 0.0035423958856623037, 0.011498837681371277, 0.008793831999542902, 0.012645847989970318, 0.01677666174017792, 0.018037396568861046, 0.00982105850846679, 0.010605453310340749, 0.010473542522224596, 0.01333223281648068, 0.0087991003256096, 0.008776437634148322, 0.01419854019475847, 0.013231323226258007, 0.014683823106928343, 0.014846442830352524, 0.013393560634437498, 0.011882854626391106, 0.009446208486586427, 0.010562636085018253, 0.010662205656963865, 0.009149649582378974, 0.010914957719501732, 0.009444613215687967, 0.006416983352852638, 0.010707193977612989, 0.008475829317248714, 0.015627619386849, 0.016842205900436644, 0.009712442694609948, 0.009548550572871461, 0.013589581615891924, 0.007909350276304702, 0.01047505343488834, 0.010706573935695029, 0.012095231506839946, 0.01924357940976152, 0.016030081028896262, 0.01010646151870339, 0.013051814361188196, 0.008328890747553379, 0.00798627016756354, 0.009787921049816885, 0.011144060975789287, 0.0116618163300305, 0.011311922780475077, 0.010085198785889466, 0.014016778239954918, 0.00846610979356586, 0.011939400030744484, 0.00978735213961297, 0.008296307274925351, 0.011627732404768209, 0.009760567572755261, 0.007870959582413602, 0.007354513595635321, 0.011528772284093068, 0.006603942130695208, 0.008268479320203014, 0.014612985800417432, 0.010561613217949989, 0.014331488912555616, 0.01406715657119064, 0.012951616616516868, 0.01937277142419462, 0.0068839061397475915, 0.014555476999128234, 0.009129511795210512, 0.008187078187031231, 0.009801678212670471, 0.012195261566643228, 0.011913800383813598, 0.006494907616281969, 0.012798825185439806, 0.0088260101060868, 0.010526630715910475, 0.0127224597406016, 0.006628625645568696, 0.008782782042066957, 0.006821366805101068, 0.008514677079177963, 0.014478957723825103, 0.009942334889691196, 0.006216309145232998, 0.007885151714545137, 0.0045550017504002345, 0.0077279414432617904, 0.014926924710424932, 0.010554539237954394]}\n"
     ]
    }
   ],
   "source": [
    "#Save KN, best fit model, min chi2 value, model distance (use indexing to find lowest) and KN distance)\n",
    "\n",
    "kn_info = {'KN model':array_kns, 'Best fit model':best_model, 'Minimum Chi2':min_chi2}#, 'Model distance':dist_ind_value, 'KN distance':all_kn_distance}\n",
    "print(kn_info)"
   ]
  },
  {
   "cell_type": "code",
   "execution_count": 130,
   "metadata": {},
   "outputs": [],
   "source": [
    "#print(chi_dict)"
   ]
  },
  {
   "cell_type": "code",
   "execution_count": 131,
   "metadata": {},
   "outputs": [],
   "source": [
    "#plt.plot(dist_range, key_items_min_chi[1], color='blue') #plotting chisquared distribution model 7 (model 0 chosen).\n",
    "#plt.plot(dist_range, chi_dict['0'], color='red') #plotting chisquared distribution model 0 (model 0 chosen)."
   ]
  },
  {
   "cell_type": "code",
   "execution_count": 132,
   "metadata": {},
   "outputs": [],
   "source": [
    "#print(min(chi_dict.items()))"
   ]
  },
  {
   "cell_type": "code",
   "execution_count": 133,
   "metadata": {},
   "outputs": [],
   "source": [
    "#min(chi_dict.keys(), key=(lambda k: chi_dict[k]))"
   ]
  },
  {
   "cell_type": "code",
   "execution_count": 134,
   "metadata": {},
   "outputs": [],
   "source": [
    "#val = chi_dict.values()\n",
    "#minval = min(val)\n",
    "#for i in chi_dict:\n",
    "#    if chi_dict[i]== minval:\n",
    "#        print(i)"
   ]
  },
  {
   "cell_type": "code",
   "execution_count": 135,
   "metadata": {},
   "outputs": [],
   "source": [
    "### ERROR UP TO HERE."
   ]
  },
  {
   "cell_type": "code",
   "execution_count": 136,
   "metadata": {},
   "outputs": [],
   "source": [
    "#Creating the efficiency curve.\n",
    "\n",
    "#best_val = []\n",
    "#cumulative = []\n",
    "#match_dist = []\n",
    "#match = 1\n",
    "#non_match = 0\n",
    "\n",
    "#array_kns = np.asarray(array_kns)\n",
    "#best_model = np.asarray(best_model)\n",
    "\n",
    "#for i in range(len(model)):\n",
    "#    for j in range(len(model)):\n",
    "#        kn_ind = np.where(array_kns==i)\n",
    "#        best_ind = best_model[kn_ind]\n",
    "#        best_val.append(best_ind)\n",
    "#        if best_val[i][j] == i:\n",
    "#            match_dist.append(dist_ind_value[best_val[i][0]])\n",
    "#            cumulative.append(match)\n",
    "#        else:\n",
    "#            cumulative.append(non_match)\n",
    "             \n",
    "#cumsum = np.cumsum(cumulative)\n",
    "\n",
    "#print(best_val)\n",
    "\n",
    "#print(match_dist)\n",
    "\n",
    "#plt.plot(cumsum)"
   ]
  },
  {
   "cell_type": "code",
   "execution_count": 137,
   "metadata": {},
   "outputs": [],
   "source": [
    "#plt.figure(figsize=(9,7))\n",
    "#plt.plot(dist_range, chi_dict['0'], color='black', label='Two Component Model')\n",
    "#plt.plot(dist_range, chi_dict['1'], color='red', label='Red Two Component Model')\n",
    "#plt.plot(dist_range, chi_dict['2'], color='blue', label='Blue Two Component Model')\n",
    "#plt.plot(dist_range, chi_dict['3'], color='black', linestyle='dashed', label='Three Component Model')\n",
    "#plt.plot(dist_range, chi_dict['4'], color='blue', linestyle='dashed', label='Blue Three Component Model')\n",
    "#plt.plot(dist_range, chi_dict['5'], color='green', label='Kawaguchi et al.')\n",
    "#plt.plot(dist_range, chi_dict['6'], color='orange', label='Barbieri et al.')\n",
    "#plt.plot(dist_range, chi_dict['7'], color='fuchsia', label='GW170817')\n",
    "#plt.xlabel('Distance (Mpc)')\n",
    "#plt.ylabel('$\\chi^{2}$')\n",
    "#plt.ylim(0,1)\n",
    "#plt.xlim(28,51)\n",
    "#plt.grid()\n",
    "#plt.legend()\n",
    "#plt.savefig('chi_ehanced.png')"
   ]
  },
  {
   "cell_type": "code",
   "execution_count": 138,
   "metadata": {},
   "outputs": [],
   "source": [
    "#Simulating where GOTO is in the world\n",
    "\n",
    "#ra = np.random.normal(np.pi, np.pi/4, 1000000)\n",
    "#dec = np.random.normal(0, np.pi/8, 1000000)\n",
    "\n",
    "#goto_loc = "
   ]
  }
 ],
 "metadata": {
  "kernelspec": {
   "display_name": "Python 3",
   "language": "python",
   "name": "python3"
  },
  "language_info": {
   "codemirror_mode": {
    "name": "ipython",
    "version": 3
   },
   "file_extension": ".py",
   "mimetype": "text/x-python",
   "name": "python",
   "nbconvert_exporter": "python",
   "pygments_lexer": "ipython3",
   "version": "3.7.3"
  }
 },
 "nbformat": 4,
 "nbformat_minor": 2
}
