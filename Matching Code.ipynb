{
 "cells": [
  {
   "cell_type": "code",
   "execution_count": 1,
   "metadata": {},
   "outputs": [],
   "source": [
    "import numpy as np\n",
    "import matplotlib.pyplot as plt\n",
    "np.set_printoptions(suppress=True)"
   ]
  },
  {
   "cell_type": "code",
   "execution_count": 2,
   "metadata": {},
   "outputs": [],
   "source": [
    "#Create functions.\n",
    "\n",
    "#Function that creates an 'observation' of the different light curve models by taking the magnitudes \n",
    "#corresponding to 24 hour cadence starting from 0.5 days.\n",
    "def make_lightcurve(t, mod):\n",
    "    mag = np.zeros(len(t)) \n",
    "    for ind,i in enumerate(t):\n",
    "        a = np.interp(i, model[mod][:,0], model[mod][:,1])\n",
    "        mag[ind] = a\n",
    "    return(mag)\n",
    "\n",
    "#Function that scales these magnitudes with distance so that they are within a range of the expected 30% error in\n",
    "#the distance parameter from the GW source.\n",
    "def make_scale_model(mag, rand_dist_range):\n",
    "    mag_scale=[]\n",
    "    for i in range(len(rand_dist_range)):\n",
    "        obs = mag + 5*np.log10((rand_dist_range[i])/(dist_all_models)) #this comes from m-M = 5log(d) - 5\n",
    "        mag_scale.append(obs)\n",
    "    return(mag_scale)\n",
    "\n",
    "#Function that introduces an error of ±0.25 onto the magnitudes that would come from the optical telescope.\n",
    "def introduce_telescope_err(mag_scale):\n",
    "    corrected_mags = []\n",
    "    rand_err = np.random.uniform(-0.25, 0.25, len(mag_scale[0]))\n",
    "    for mags in mag_scale:\n",
    "        corrected_mags.append(mags + rand_err) #adds same 14 errors to the 14 magnitudes of all the scaled models.\n",
    "    \n",
    "    #Creating the cutoff magnitude for the all the models. Currently removed whilst fixing errors.\n",
    "    #newarr=[]    \n",
    "    #for j in range(len(corrected_mags)):\n",
    "        #corrected_mags[j][corrected_mags[j] > cutoff_mag] = -1 #if the value of the magnitude in a model is greater\n",
    "                                                               #than 21 (cutoff) then set that element = -1.\n",
    "        #num = np.where(corrected_mags[j]==-1) #finds all elements in corrected mags where GOTO cannot observe them.\n",
    "        #if len(num[0]) > 10: #GOTO has to observe at least 4 points out of 14 for the model to be observed. \n",
    "            #print('Unobservable')\n",
    "    return(corrected_mags)\n",
    "\n",
    "#Function to create a chi squared distribution.\n",
    "def make_chi_squared(mag_err, mag):\n",
    "    all_chi2 = []\n",
    "    for mags in mag_err:\n",
    "        chi2 = np.sum(np.square(mags - mag)/mag)\n",
    "        all_chi2.append(chi2)\n",
    "    return(all_chi2)\n",
    "\n",
    "#Function to return a dictionary with the minimmum chi value and the model related to this minimum chi value.\n",
    "#This is currently where the error is.\n",
    "def return_best_model(dictionary):\n",
    "    min_chi = min(dictionary.items()) #gives key and items where lowest chisquared is found.\n",
    "    lowest_chi = min(min_chi[1]) #takes the lowest value in the items of the key with the lowest chi squared value.\n",
    "    related_model = int(min_chi[0]) #gives the key of the lowest chisquared.\n",
    "    return(min_chi, lowest_chi, related_model)"
   ]
  },
  {
   "cell_type": "code",
   "execution_count": 3,
   "metadata": {
    "scrolled": true
   },
   "outputs": [],
   "source": [
    "#Load in models.\n",
    "\n",
    "lc = np.load('light_curves.npz')\n",
    "m0 = lc['two']\n",
    "m1 = lc['two_r']\n",
    "m2 = lc['two_b']\n",
    "m3 = lc['three']\n",
    "m4 = lc['three_b']\n",
    "m5 = lc['KW']\n",
    "m6 = lc['BR']\n",
    "m7 = lc['GW']\n",
    "\n",
    "#Define parameters.\n",
    "\n",
    "N = 1 #number of kn models in Universe. Currently reduced at the moment whilst fixing errors\n",
    "\n",
    "model = [m0, m1 ,m2 ,m3 ,m4 ,m5 ,m6 ,m7] #array of all the kn models.\n",
    "time = [0.5,1.5,2.5,3.5,4.5,5.5,6.5,7.5,8.5,9.5,10.5,11.5,12.5,13.5] #cadence of the observations in days.\n",
    "\n",
    "dist = np.random.uniform(40,200,N) #Mpc #creates random distance between 40-200 Mpc (range we expect to detect KN).\n",
    "dist_all_models = 40 #Mpc #reference distance when scaling the magnitudes.\n",
    "low_dist_err = 0.7 #min distance from the 30% error range.\n",
    "high_dist_err = 1.3 #max distance from the 30% error range.\n",
    "\n",
    "cutoff_mag = 21 #GOTO will not be able to observe anything beyond this magnitude."
   ]
  },
  {
   "cell_type": "code",
   "execution_count": 4,
   "metadata": {},
   "outputs": [
    {
     "name": "stdout",
     "output_type": "stream",
     "text": [
      "('0', [14.650632866163537, 14.504754954032743, 14.36139187659175, 14.220473932429988, 14.081934132445628, 13.945708064105137, 13.811733763982598, 13.679951597985252, 13.550304148719688, 13.422736109498281, 13.297194184525013, 13.173626994837065, 13.051984989611421, 12.932220362476574, 12.81428697249673, 12.698140269521582, 12.583737223617769, 12.471036258319169, 12.359997187452816, 12.250581155314926, 12.142750579987814, 12.036469099603583, 11.931701521374055, 11.828413773219339, 11.726572857838958, 11.626146809080256, 11.527104650468663, 11.429416355773736, 11.3330528114932, 11.237985781144983, 11.144187871264727, 11.051632499012719, 10.96029386130037, 10.870146905352488, 10.781167300626352, 10.69333141201418, 10.606616274259556, 10.520999567523242, 10.436459594037364, 10.35297525579086, 10.27052603319246, 10.189091964660832, 10.108653627094125, 10.029192117174603, 9.950689033465897, 9.873126459263528, 9.79648694616113, 9.720753498297363, 9.645909557249972, 9.571938987545973, 9.498826062758017, 9.426555452159182, 9.355112207909679, 9.28448175275034, 9.214649868179505, 9.145602683090583, 9.077326662849453, 9.009808598791285, 8.943035598118069, 8.876995074178646, 8.811674737114156, 8.74706258485283, 8.683146894438547, 8.619916213678732, 8.557359353097576, 8.495465378181486, 8.434223601904293, 8.373623577520092, 8.313655091612759, 8.254308157390927])\n",
      "8.254308157390927\n",
      "0\n"
     ]
    }
   ],
   "source": [
    "#Simulating N kilonova models in the universe.\n",
    "\n",
    "#List of empty arrays used to append values in the loop.\n",
    "array_kns = []\n",
    "all_kn_distance = []\n",
    "model_distance = []\n",
    "min_chi2 = []\n",
    "best_model = []\n",
    "ind_chi2 = []\n",
    "dist_ind_value = []\n",
    "\n",
    "for j in range(N):\n",
    "    \n",
    "    #Create kn in universe.\n",
    "    x = 5 #np.random.randint(0, 7) #chooses a random model out of the 8.\n",
    "    gen_kn = make_lightcurve(time, x) #universe creates 'observation' of model with magnitudes taken at cadences.\n",
    "    kn = make_scale_model(gen_kn, [dist[j]]) #places this observation model at a random distance.\n",
    "    \n",
    "    #Record model of kn chosen to store in dictionary later.\n",
    "    array_kns.append(x)\n",
    "    \n",
    "    #Work out step of model over distance to give a range between min and max 30% error range.\n",
    "    dist_range = np.arange(np.floor(low_dist_err*dist[j]), np.ceil(high_dist_err*dist[j]), 1)\n",
    "    \n",
    "    #Use functions defined and loop them over all models.\n",
    "    chisquare_models = []\n",
    "    for i in range(len(model)):\n",
    "        magnitude = make_lightcurve(time, i) #inserting model number from 0-7 (models 1-8) and times for cadenece.\n",
    "        scale = make_scale_model(magnitude, dist_range) #inserting the returned 'mag' from previous magnitude \n",
    "                                                        #function and the distance range to scale models over.\n",
    "        error = introduce_telescope_err(scale) #inserting the scaled magnitudes from the scale function.\n",
    "        chisquare = make_chi_squared(error, kn) #inserting the corrected magnitudes and the magnitudes from\n",
    "                                                #the original kn model.\n",
    "        chisquare_models.append(chisquare) #appending the chisquare values for each of the 8 models\n",
    "\n",
    "    #Save chisquared data for each model in a dictionary.\n",
    "    chi_dict = {'0':chisquare_models[0], '1':chisquare_models[1], '2':chisquare_models[2], '3':chisquare_models[3], '4':chisquare_models[4], '5':chisquare_models[5], '6':chisquare_models[6], '7':chisquare_models[7]}\n",
    "    \n",
    "    #Using return best model function to find the min chi and best model fit for all the models over every iteration.\n",
    "    return_best_model(chi_dict)\n",
    "    key_items_min_chi = return_best_model(chi_dict)[0]\n",
    "    print(key_items_min_chi)\n",
    "    lowest_chi = return_best_model(chi_dict)[1]\n",
    "    print(lowest_chi)\n",
    "    related_model = return_best_model(chi_dict)[2]\n",
    "    print(related_model)\n",
    "    min_chi2.append(lowest_chi)\n",
    "    #print(min_chi2)\n",
    "    best_model.append(related_model)\n",
    "    #print(best_model)\n",
    "    \n",
    "    #Finding the index of the minimum chi value to find out where the distance of the model is.\n",
    "    #chi_index_min = np.argmin(chisquare_models[int(related_model)])\n",
    "    #ind_chi2.append(chi_index_min)\n",
    "    #dist_range_index = dist_range[int(chi_index_min)]\n",
    "    #dist_ind_value.append(dist_range_index)\n",
    "    \n",
    "    #Looping over dist_all_models N times for kn_info dict.\n",
    "    #all_kn_distance.append(int(dist[j]))"
   ]
  },
  {
   "cell_type": "code",
   "execution_count": 5,
   "metadata": {},
   "outputs": [
    {
     "name": "stdout",
     "output_type": "stream",
     "text": [
      "{'KN model': [5], 'Best fit model': [0], 'Minimum Chi2': [8.254308157390927]}\n"
     ]
    }
   ],
   "source": [
    "#Save KN, best fit model, min chi2 value, model distance (use indexing to find lowest) and KN distance)\n",
    "\n",
    "kn_info = {'KN model':array_kns, 'Best fit model':best_model, 'Minimum Chi2':min_chi2}#, 'Model distance':dist_ind_value, 'KN distance':all_kn_distance}\n",
    "print(kn_info)"
   ]
  },
  {
   "cell_type": "code",
   "execution_count": 6,
   "metadata": {},
   "outputs": [
    {
     "name": "stdout",
     "output_type": "stream",
     "text": [
      "{'0': [14.650632866163537, 14.504754954032743, 14.36139187659175, 14.220473932429988, 14.081934132445628, 13.945708064105137, 13.811733763982598, 13.679951597985252, 13.550304148719688, 13.422736109498281, 13.297194184525013, 13.173626994837065, 13.051984989611421, 12.932220362476574, 12.81428697249673, 12.698140269521582, 12.583737223617769, 12.471036258319169, 12.359997187452816, 12.250581155314926, 12.142750579987814, 12.036469099603583, 11.931701521374055, 11.828413773219339, 11.726572857838958, 11.626146809080256, 11.527104650468663, 11.429416355773736, 11.3330528114932, 11.237985781144983, 11.144187871264727, 11.051632499012719, 10.96029386130037, 10.870146905352488, 10.781167300626352, 10.69333141201418, 10.606616274259556, 10.520999567523242, 10.436459594037364, 10.35297525579086, 10.27052603319246, 10.189091964660832, 10.108653627094125, 10.029192117174603, 9.950689033465897, 9.873126459263528, 9.79648694616113, 9.720753498297363, 9.645909557249972, 9.571938987545973, 9.498826062758017, 9.426555452159182, 9.355112207909679, 9.28448175275034, 9.214649868179505, 9.145602683090583, 9.077326662849453, 9.009808598791285, 8.943035598118069, 8.876995074178646, 8.811674737114156, 8.74706258485283, 8.683146894438547, 8.619916213678732, 8.557359353097576, 8.495465378181486, 8.434223601904293, 8.373623577520092, 8.313655091612759, 8.254308157390927], '1': [5.574836912087541, 5.49859584384157, 5.424015148909744, 5.351045840866942, 5.2796409013096035, 5.209755179349842, 5.141345297328837, 5.0743695622985845, 5.00878788285824, 4.944561690965509, 4.881653868374064, 4.820028677376191, 4.759651695555202, 4.700489754275445, 4.642510880658821, 4.585684242816056, 4.529980098118662, 4.475369744313529, 4.421825473296974, 4.369320527378518, 4.317829057877086, 4.267326085903778, 4.217787465195644, 4.169189846874673, 4.1215106460150075, 4.074728009909496, 4.028820787934221, 3.9837685029166137, 3.939551323919131, 3.8961500403563, 3.853546037368547, 3.8117212723811686, 3.77065825278145, 3.730340014651451, 3.6907501024977156, 3.6518725499232225, 3.613691861189997, 3.5761929936243337, 3.5393613408193767, 3.503182716592638, 3.46764333965862, 3.4327298189791913, 3.398429139756388, 3.364728650034749, 3.331616047881876, 3.2990793691180635, 3.267106975567255, 3.235687543803461, 3.2048100543679756, 3.174463781434364, 3.144638282899331, 3.1153233908788875, 3.086509202590378, 3.05818607160189, 3.030344599431787, 3.002975627481787, 2.9760702292881525, 2.949619703076161, 2.923615564604002, 2.8980495402828352, 2.8729135605605047, 2.8481997535570787, 2.82390043894091, 2.80000812203459, 2.7765154881406158, 2.7534153970771937, 2.730700877915035, 2.7083651239064084, 2.6864014875983147, 2.6648034761217927], '2': [12.207872693103328, 12.075478012194598, 11.945432723378671, 11.817671136123757, 11.692130128096355, 11.568749016243007, 11.447469435752872, 11.328235226335098, 11.210992325291183, 11.09568866690497, 10.982274087711428, 10.87070023724023, 10.76092049386201, 10.652889885394256, 10.546565014150108, 10.44190398613763, 10.338866344139195, 10.237413004420706, 10.137506196839041, 10.039109408133037, 9.942187328198795, 9.846705799164596, 9.752631767093565, 9.659933236154554, 9.568579225112826, 9.478539726002174, 9.38978566484976, 9.302288864333681, 9.216022008261248, 9.130958607763342, 9.047072969107408, 8.964340163037686, 8.882735995557297, 8.802236980072491, 8.722820310824035, 8.644463837535953, 8.567146041215603, 8.490846011043734, 8.415543422296613, 8.341218515245869, 8.267852074985077, 8.195425412135208, 8.1239203443836, 8.053319178814345, 7.9836046949897765, 7.914760128745698, 7.84676915666468, 7.779615881194166, 7.7132848163776, 7.647760874169064, 7.5830293513030735, 7.519075916693143, 7.455886599333989, 7.393447776683524, 7.3317461635024275, 7.270768801129821, 7.210503047175162, 7.150936565607098, 7.092057317221479, 7.0338535504712905, 6.976313792642274, 6.919426841359032, 6.863181756406842, 6.807567851855482, 6.752574688471825, 6.698192066408717, 6.644410018158444, 6.591218801759144, 6.538608894243925, 6.4865709853219835], '3': [14.569604017614012, 14.423898191377846, 14.280705088294802, 14.139955058144972, 14.001581161177938, 13.865519032459346, 13.731706754492258, 13.600084737519886, 13.470595606964656, 13.34318409750331, 13.217796953317647, 13.094382834097354, 12.972892226404598, 12.853277360040492, 12.735492129081214, 12.619492017276892, 12.505234027529623, 12.392676615187913, 12.28177962491449, 12.172504230902051, 12.06481288022798, 11.958669239153878, 11.854038142189644, 11.750885543754457, 11.649178472278798, 11.548884986602253, 11.44997413453181, 11.352415913434559, 11.256181232747213, 11.161241878292405, 11.067570478299382, 10.97514047103305, 10.883926073941588, 10.793902254238912, 10.705044700843043, 10.617329797597042, 10.5307345977031, 10.445236799305238, 10.360814722159681, 10.277447285335814, 10.195113985894002, 10.113794878489976, 10.033470555858027, 9.954122130128718, 9.875731214938725, 9.79827990829338, 9.721750776144505, 9.646126836648433, 9.571391545070735, 9.497528779306696, 9.424522825987541, 9.352358367144708, 9.281020467405712, 9.210494561696391, 9.140766443426278, 9.071822253134284, 9.003648467573955, 8.93623188921784, 8.869559636162313, 8.80361913241461, 8.738398098545062, 8.673884542688382, 8.610066751878545, 8.546933283702744, 8.484472958260497, 8.422674850414717, 8.361528282322421, 8.301022816232832, 8.241148247541998, 8.181894598092702], '4': [9.860852834178592, 9.742521322143357, 9.626366643624879, 9.512327291485121, 9.400344176475471, 9.29036050543409, 9.182321666947987, 9.07617512394265, 8.971870312705802, 8.869358547892716, 8.76859293309642, 8.669528276599916, 8.572121011957284, 8.476329123078507, 8.382112073517659, 8.289430739687239, 8.198247347742416, 8.108525413897928, 8.020229687958235, 7.933326099857387, 7.847781709020013, 7.763564656368349, 7.680644118812595, 7.5989902660735025, 7.518574219696613, 7.4393680141272425, 7.361344559724258, 7.284477607599125, 7.208741716174193, 7.134112219361241, 7.060565196267986, 6.988077442346203, 6.916626441900594, 6.8461903418830925, 6.776747926901601, 6.708278595377182, 6.640762336787335, 6.5741797099372485, 6.508511822204386, 6.443740309704981, 6.3798473183342495, 6.316815485635146, 6.2546279234527375, 6.193268201334467, 6.132720330638213, 6.072968749312871, 6.0139983073177055, 5.955794252649153, 5.898342217945, 5.841628207638094, 5.7856385856328165, 5.730360063479425, 5.675779689022523, 5.621884835501167, 5.568663191079656, 5.516102748788725, 5.464191796858376, 5.412918909424256, 5.362272937590665, 5.312243000834028, 5.262818478731525, 5.213989003000496, 5.165744449834703, 5.118074932524588, 5.070970794348952, 5.0244226017264095, 4.978421137615437, 4.932957395152248, 4.888022571516623, 4.8436080620158], '5': [0.3214535507547063, 0.30054186915068193, 0.2806116555401935, 0.2616303824209394, 0.24356689894486058, 0.2263913584076155, 0.2100751503201153, 0.19459083672466992, 0.17991209244659012, 0.1660136489977808, 0.15287124187213721, 0.14046156099369106, 0.12876220409767208, 0.1177516328421381, 0.10740913146373005, 0.09771476780564518, 0.08864935655916903, 0.08019442457220095, 0.07233217808928066, 0.06504547179777162, 0.05831777956411118, 0.052133166752570674, 0.046476264026763026, 0.041332242541320806, 0.03668679043776075, 0.032526090564616146, 0.028836799347502905, 0.02560602673994814, 0.022821317190545417, 0.020470631566383558, 0.018542329976761588, 0.01702515544492228, 0.015908218379010818, 0.0151809817966716, 0.014833247260653182, 0.014855141485553898, 0.015237103578383829, 0.015969872877993316, 0.017044477360613836, 0.018452222580804194, 0.02018468111899455, 0.02223368250858779, 0.024591303617232895, 0.02724985945840447, 0.030201894410870737, 0.03344017382495105, 0.03695767599571901, 0.04074758448445888, 0.04480328077078967, 0.0491183372188526, 0.05368651034194716, 0.05850173435085425, 0.0635581149719344, 0.06884992352187523, 0.07437159122666079, 0.08011770377306644, 0.0860829960815733, 0.09226234729025279, 0.09865077593968302, 0.10524343534953061, 0.11203560917792606, 0.11902270715519758, 0.12620026098401735, 0.1335639203983904, 0.14110944937433198, 0.14883272248544674, 0.15672972139692865, 0.1647965314919242, 0.17302933862436964, 0.18142442599286152], '6': [4.081979254458684, 4.012600810207438, 3.944798533168914, 3.8785254783539327, 3.813736595446304, 3.7503886317692654, 3.688440041268141, 3.627850899072321, 3.568582821235902, 3.5105988892891697, 3.453863579263121, 3.3983426948761983, 3.344003304597262, 3.2908136823212493, 3.23874325141445, 3.1877625319050824, 3.137843090611955, 3.0889574940195863, 3.0410792637224247, 2.9941828342740897, 2.948243513289329, 2.9032374436576043, 2.859141567737229, 2.815933593408346, 2.7735919618716105, 2.7320958170872998, 2.691424976756801, 2.6515599047552736, 2.6124816849303443, 2.574171996187367, 2.5366130887873077, 2.4997877617879176, 2.4636793415634974, 2.4282716613428863, 2.3935490417089, 2.359496272006384, 2.3260985926090787, 2.293341677998856, 2.2612116206136252, 2.22969491542297, 2.1987784451930215, 2.168449466404469, 2.138695595789693, 2.109504797457174, 2.0808653705730253, 2.0527659375714093, 2.025195432867212, 1.9981430920458758, 1.9715984415066194, 1.9455512885369277, 1.9199917117970378, 1.8949100521946862, 1.870296904131296, 1.846143107101822, 1.8224397376315822, 1.7991781015340997, 1.7763497264750823, 1.7539463548281933, 1.7319599368093224, 1.7103826238765436, 1.6892067623836535, 1.6684248874759675, 1.6480297172174314, 1.62801414693881, 1.608371243797174, 1.5890942415373766, 1.5701765354468458, 1.5516116774951174, 1.5333933716504085, 1.5155154693654445], '7': [13.164936184667482, 13.026942078746806, 12.89136607125501, 12.758140805990207, 12.62720155479616, 12.498486085810837, 12.371934539761519, 12.247489313728867, 12.12509495184963, 12.00469804247086, 11.886247121307868, 11.769692580193533, 11.654986581039328, 11.542082974657864, 11.43093722412375, 11.32150633237418, 11.213748773773368, 11.107624429385382, 11.003094525718724, 10.900121576723764, 10.798669328839459, 10.698702708900775, 10.60018777473142, 10.503091668258921, 10.407382571000502, 10.313029661778488, 10.220003076533782, 10.128273870114821, 10.037813979927712, 9.94859619134052, 9.86059410474236, 9.773782104163793, 9.688135327371352, 9.60362963735483, 9.520241595130608, 9.43794843378978, 9.356728033723623, 9.276558898963701, 9.19742013457743, 9.119291425063604, 9.042153013695765, 8.96598568276445, 8.89077073467205, 8.816489973837218, 8.743125689367636, 8.670660638462873, 8.599078030511013, 8.528361511844992, 8.458495151126028, 8.389463425324248, 8.32125120626726, 8.25384374772983, 8.18722667303897, 8.12138596316997, 8.056307945310811, 7.9919792818727915, 7.92838695992727, 7.865518281048619, 7.803360851545331, 7.741902573061623, 7.681131633532838, 7.621036498479211, 7.561605902622865, 7.502828841813952, 7.444694565252537, 7.387192567993242, 7.330312583720943, 7.27404457778536, 7.21837874048428, 7.163305480584292]}\n"
     ]
    }
   ],
   "source": [
    "print(chi_dict)"
   ]
  },
  {
   "cell_type": "code",
   "execution_count": 7,
   "metadata": {},
   "outputs": [
    {
     "data": {
      "text/plain": [
       "[<matplotlib.lines.Line2D at 0x118155ba8>]"
      ]
     },
     "execution_count": 7,
     "metadata": {},
     "output_type": "execute_result"
    },
    {
     "data": {
      "image/png": "[encoded data removed]",
      "text/plain": [
       "<Figure size 432x288 with 1 Axes>"
      ]
     },
     "metadata": {
      "needs_background": "light"
     },
     "output_type": "display_data"
    }
   ],
   "source": [
    "plt.plot(dist_range, key_items_min_chi[1], color='blue') #plotting chisquared distribution model 7 (model 0 chosen).\n",
    "plt.plot(dist_range, chi_dict['0'], color='red') #plotting chisquared distribution model 0 (model 0 chosen)."
   ]
  },
  {
   "cell_type": "code",
   "execution_count": 8,
   "metadata": {},
   "outputs": [
    {
     "name": "stdout",
     "output_type": "stream",
     "text": [
      "('0', [14.650632866163537, 14.504754954032743, 14.36139187659175, 14.220473932429988, 14.081934132445628, 13.945708064105137, 13.811733763982598, 13.679951597985252, 13.550304148719688, 13.422736109498281, 13.297194184525013, 13.173626994837065, 13.051984989611421, 12.932220362476574, 12.81428697249673, 12.698140269521582, 12.583737223617769, 12.471036258319169, 12.359997187452816, 12.250581155314926, 12.142750579987814, 12.036469099603583, 11.931701521374055, 11.828413773219339, 11.726572857838958, 11.626146809080256, 11.527104650468663, 11.429416355773736, 11.3330528114932, 11.237985781144983, 11.144187871264727, 11.051632499012719, 10.96029386130037, 10.870146905352488, 10.781167300626352, 10.69333141201418, 10.606616274259556, 10.520999567523242, 10.436459594037364, 10.35297525579086, 10.27052603319246, 10.189091964660832, 10.108653627094125, 10.029192117174603, 9.950689033465897, 9.873126459263528, 9.79648694616113, 9.720753498297363, 9.645909557249972, 9.571938987545973, 9.498826062758017, 9.426555452159182, 9.355112207909679, 9.28448175275034, 9.214649868179505, 9.145602683090583, 9.077326662849453, 9.009808598791285, 8.943035598118069, 8.876995074178646, 8.811674737114156, 8.74706258485283, 8.683146894438547, 8.619916213678732, 8.557359353097576, 8.495465378181486, 8.434223601904293, 8.373623577520092, 8.313655091612759, 8.254308157390927])\n"
     ]
    }
   ],
   "source": [
    "print(min(chi_dict.items()))"
   ]
  },
  {
   "cell_type": "code",
   "execution_count": 9,
   "metadata": {},
   "outputs": [],
   "source": [
    "### ERROR UP TO HERE."
   ]
  },
  {
   "cell_type": "code",
   "execution_count": 10,
   "metadata": {},
   "outputs": [],
   "source": [
    "#Creating the efficiency curve.\n",
    "\n",
    "#best_val = []\n",
    "#cumulative = []\n",
    "#match_dist = []\n",
    "#match = 1\n",
    "#non_match = 0\n",
    "\n",
    "#array_kns = np.asarray(array_kns)\n",
    "#best_model = np.asarray(best_model)\n",
    "\n",
    "#for i in range(len(model)):\n",
    "#    for j in range(len(model)):\n",
    "#        kn_ind = np.where(array_kns==i)\n",
    "#        best_ind = best_model[kn_ind]\n",
    "#        best_val.append(best_ind)\n",
    "#        if best_val[i][j] == i:\n",
    "#            match_dist.append(dist_ind_value[best_val[i][0]])\n",
    "#            cumulative.append(match)\n",
    "#        else:\n",
    "#            cumulative.append(non_match)\n",
    "             \n",
    "#cumsum = np.cumsum(cumulative)\n",
    "\n",
    "#print(best_val)\n",
    "\n",
    "#print(match_dist)\n",
    "\n",
    "#plt.plot(cumsum)"
   ]
  },
  {
   "cell_type": "code",
   "execution_count": 11,
   "metadata": {},
   "outputs": [],
   "source": [
    "#plt.figure(figsize=(9,7))\n",
    "#plt.plot(dist_range, chi_dict['0'], color='black', label='Two Component Model')\n",
    "#plt.plot(dist_range, chi_dict['1'], color='red', label='Red Two Component Model')\n",
    "#plt.plot(dist_range, chi_dict['2'], color='blue', label='Blue Two Component Model')\n",
    "#plt.plot(dist_range, chi_dict['3'], color='black', linestyle='dashed', label='Three Component Model')\n",
    "#plt.plot(dist_range, chi_dict['4'], color='blue', linestyle='dashed', label='Blue Three Component Model')\n",
    "#plt.plot(dist_range, chi_dict['5'], color='green', label='Kawaguchi et al.')\n",
    "#plt.plot(dist_range, chi_dict['6'], color='orange', label='Barbieri et al.')\n",
    "#plt.plot(dist_range, chi_dict['7'], color='fuchsia', label='GW170817')\n",
    "#plt.xlabel('Distance (Mpc)')\n",
    "#plt.ylabel('$\\chi^{2}$')\n",
    "#plt.ylim(0,1)\n",
    "#plt.xlim(28,51)\n",
    "#plt.grid()\n",
    "#plt.legend()\n",
    "#plt.savefig('chi_ehanced.png')"
   ]
  },
  {
   "cell_type": "code",
   "execution_count": 12,
   "metadata": {},
   "outputs": [],
   "source": [
    "#Simulating where GOTO is in the world\n",
    "\n",
    "#ra = np.random.normal(np.pi, np.pi/4, 1000000)\n",
    "#dec = np.random.normal(0, np.pi/8, 1000000)\n",
    "\n",
    "#goto_loc = "
   ]
  }
 ],
 "metadata": {
  "kernelspec": {
   "display_name": "Python 3",
   "language": "python",
   "name": "python3"
  },
  "language_info": {
   "codemirror_mode": {
    "name": "ipython",
    "version": 3
   },
   "file_extension": ".py",
   "mimetype": "text/x-python",
   "name": "python",
   "nbconvert_exporter": "python",
   "pygments_lexer": "ipython3",
   "version": "3.7.3"
  }
 },
 "nbformat": 4,
 "nbformat_minor": 2
}
