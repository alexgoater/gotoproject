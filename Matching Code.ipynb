{
 "cells": [
  {
   "cell_type": "code",
   "execution_count": 75,
   "metadata": {},
   "outputs": [],
   "source": [
    "import numpy as np\n",
    "import matplotlib.pyplot as plt\n",
    "np.set_printoptions(suppress=True)"
   ]
  },
  {
   "cell_type": "code",
   "execution_count": 76,
   "metadata": {},
   "outputs": [],
   "source": [
    "#Create functions.\n",
    "\n",
    "def make_lightcurve(t, mod):\n",
    "    mag = np.zeros(len(t))\n",
    "    for ind,i in enumerate(t):\n",
    "        a = np.interp(i, model[mod][:,0], model[mod][:,1])\n",
    "        mag[ind] = a\n",
    "    return(mag)\n",
    "\n",
    "def make_scale_model(mag, rand_dist_range):\n",
    "    mag_scale=[]\n",
    "    for i in range(len(rand_dist_range)):\n",
    "        obs = mag + 5*np.log10((rand_dist_range[i])/(dist_all_models))\n",
    "        mag_scale.append(obs)\n",
    "    return(mag_scale)\n",
    "\n",
    "def introduce_telescope_err(mag_scale):\n",
    "    corrected_mags = []\n",
    "    rand_err = np.random.uniform(-0.25, 0.25, len(mag_scale[0]))\n",
    "    for mags in mag_scale:\n",
    "        corrected_mags.append(mags + rand_err)\n",
    "        \n",
    "    \n",
    "    cutoff_mag = [21]#*len(corrected_mags[0])\n",
    "    print(len(corrected_mags[0]))\n",
    "    for elem in corrected_mags:\n",
    "        for j in range(len(corrected_mags)):\n",
    "            if corrected_mags[elem][j] > cutoff_mag:\n",
    "                corrected_mags[elem][j].insert(-1)\n",
    "    print(corrected_mags)\n",
    "    \n",
    "    #if -1 appears in corrected_mags more than 10 times:\n",
    "        #set all values in this model to -1\n",
    "        \n",
    "    return(corrected_mags)\n",
    "\n",
    "def make_chi_squared(mag_err, mag):\n",
    "    all_chi2 = []\n",
    "    for mags in mag_err:\n",
    "        chi2 = np.sum(np.square(mags - mag)/mag)\n",
    "        all_chi2.append(chi2)\n",
    "    return(all_chi2)\n",
    "\n",
    "def return_model(dictionary):\n",
    "    min_chi = min(dictionary.items(), key=lambda x : x[1])\n",
    "    lowest_chi = min(min_chi[1])\n",
    "    related_model = int(min_chi[0])\n",
    "    #print('Lowest value in dict:', min(min_chi[1]))\n",
    "    #print('Model with lowest value in dict:', min_chi[0])\n",
    "    return(min_chi, lowest_chi, related_model)"
   ]
  },
  {
   "cell_type": "code",
   "execution_count": 77,
   "metadata": {
    "scrolled": true
   },
   "outputs": [],
   "source": [
    "#Load in models.\n",
    "\n",
    "lc = np.load('light_curves.npz')\n",
    "m0 = lc['two']\n",
    "m1 = lc['two_r']\n",
    "m2 = lc['two_b']\n",
    "m3 = lc['three']\n",
    "m4 = lc['three_b']\n",
    "m5 = lc['KW']\n",
    "m6 = lc['BR']\n",
    "m7 = lc['GW']\n",
    "\n",
    "#Define parameters.\n",
    "\n",
    "N = 10\n",
    "\n",
    "model = [m0, m1 ,m2 ,m3 ,m4 ,m5 ,m6 ,m7]\n",
    "time = [0.5,1.5,2.5,3.5,4.5,5.5,6.5,7.5,8.5,9.5,10.5,11.5,12.5,13.5]\n",
    "\n",
    "dist = np.random.uniform(40,200,N) #Mpc\n",
    "dist_all_models = 40 #Mpc\n",
    "low_dist_err = 0.7\n",
    "high_dist_err = 1.3"
   ]
  },
  {
   "cell_type": "code",
   "execution_count": 78,
   "metadata": {},
   "outputs": [
    {
     "name": "stdout",
     "output_type": "stream",
     "text": [
      "14\n"
     ]
    },
    {
     "ename": "TypeError",
     "evalue": "only integer scalar arrays can be converted to a scalar index",
     "output_type": "error",
     "traceback": [
      "\u001b[0;31m---------------------------------------------------------------------------\u001b[0m",
      "\u001b[0;31mTypeError\u001b[0m                                 Traceback (most recent call last)",
      "\u001b[0;32m<ipython-input-78-793f6ef90700>\u001b[0m in \u001b[0;36m<module>\u001b[0;34m\u001b[0m\n\u001b[1;32m     29\u001b[0m         \u001b[0mmagnitude\u001b[0m \u001b[0;34m=\u001b[0m \u001b[0mmake_lightcurve\u001b[0m\u001b[0;34m(\u001b[0m\u001b[0mtime\u001b[0m\u001b[0;34m,\u001b[0m \u001b[0mi\u001b[0m\u001b[0;34m)\u001b[0m\u001b[0;34m\u001b[0m\u001b[0;34m\u001b[0m\u001b[0m\n\u001b[1;32m     30\u001b[0m         \u001b[0mscale\u001b[0m \u001b[0;34m=\u001b[0m \u001b[0mmake_scale_model\u001b[0m\u001b[0;34m(\u001b[0m\u001b[0mmagnitude\u001b[0m\u001b[0;34m,\u001b[0m \u001b[0mdist_range\u001b[0m\u001b[0;34m)\u001b[0m\u001b[0;34m\u001b[0m\u001b[0;34m\u001b[0m\u001b[0m\n\u001b[0;32m---> 31\u001b[0;31m         \u001b[0merror\u001b[0m \u001b[0;34m=\u001b[0m \u001b[0mintroduce_telescope_err\u001b[0m\u001b[0;34m(\u001b[0m\u001b[0mscale\u001b[0m\u001b[0;34m)\u001b[0m\u001b[0;34m\u001b[0m\u001b[0;34m\u001b[0m\u001b[0m\n\u001b[0m\u001b[1;32m     32\u001b[0m         \u001b[0mchisquare\u001b[0m \u001b[0;34m=\u001b[0m \u001b[0mmake_chi_squared\u001b[0m\u001b[0;34m(\u001b[0m\u001b[0merror\u001b[0m\u001b[0;34m,\u001b[0m \u001b[0mkn\u001b[0m\u001b[0;34m)\u001b[0m\u001b[0;34m\u001b[0m\u001b[0;34m\u001b[0m\u001b[0m\n\u001b[1;32m     33\u001b[0m         \u001b[0mchisquare_models\u001b[0m\u001b[0;34m.\u001b[0m\u001b[0mappend\u001b[0m\u001b[0;34m(\u001b[0m\u001b[0mchisquare\u001b[0m\u001b[0;34m)\u001b[0m\u001b[0;34m\u001b[0m\u001b[0;34m\u001b[0m\u001b[0m\n",
      "\u001b[0;32m<ipython-input-76-17f08d431a37>\u001b[0m in \u001b[0;36mintroduce_telescope_err\u001b[0;34m(mag_scale)\u001b[0m\n\u001b[1;32m     26\u001b[0m     \u001b[0;32mfor\u001b[0m \u001b[0melem\u001b[0m \u001b[0;32min\u001b[0m \u001b[0mcorrected_mags\u001b[0m\u001b[0;34m:\u001b[0m\u001b[0;34m\u001b[0m\u001b[0;34m\u001b[0m\u001b[0m\n\u001b[1;32m     27\u001b[0m         \u001b[0;32mfor\u001b[0m \u001b[0mj\u001b[0m \u001b[0;32min\u001b[0m \u001b[0mrange\u001b[0m\u001b[0;34m(\u001b[0m\u001b[0mlen\u001b[0m\u001b[0;34m(\u001b[0m\u001b[0mcorrected_mags\u001b[0m\u001b[0;34m)\u001b[0m\u001b[0;34m)\u001b[0m\u001b[0;34m:\u001b[0m\u001b[0;34m\u001b[0m\u001b[0;34m\u001b[0m\u001b[0m\n\u001b[0;32m---> 28\u001b[0;31m             \u001b[0;32mif\u001b[0m \u001b[0mcorrected_mags\u001b[0m\u001b[0;34m[\u001b[0m\u001b[0melem\u001b[0m\u001b[0;34m]\u001b[0m\u001b[0;34m[\u001b[0m\u001b[0mj\u001b[0m\u001b[0;34m]\u001b[0m \u001b[0;34m>\u001b[0m \u001b[0mcutoff_mag\u001b[0m\u001b[0;34m:\u001b[0m\u001b[0;34m\u001b[0m\u001b[0;34m\u001b[0m\u001b[0m\n\u001b[0m\u001b[1;32m     29\u001b[0m                 \u001b[0mcorrected_mags\u001b[0m\u001b[0;34m[\u001b[0m\u001b[0melem\u001b[0m\u001b[0;34m]\u001b[0m\u001b[0;34m[\u001b[0m\u001b[0mj\u001b[0m\u001b[0;34m]\u001b[0m\u001b[0;34m.\u001b[0m\u001b[0minsert\u001b[0m\u001b[0;34m(\u001b[0m\u001b[0;34m-\u001b[0m\u001b[0;36m1\u001b[0m\u001b[0;34m)\u001b[0m\u001b[0;34m\u001b[0m\u001b[0;34m\u001b[0m\u001b[0m\n\u001b[1;32m     30\u001b[0m     \u001b[0mprint\u001b[0m\u001b[0;34m(\u001b[0m\u001b[0mcorrected_mags\u001b[0m\u001b[0;34m)\u001b[0m\u001b[0;34m\u001b[0m\u001b[0;34m\u001b[0m\u001b[0m\n",
      "\u001b[0;31mTypeError\u001b[0m: only integer scalar arrays can be converted to a scalar index"
     ]
    }
   ],
   "source": [
    "#Simulating N kilonova models in the universe.\n",
    "\n",
    "array_kns = []\n",
    "all_kn_distance = []\n",
    "model_distance = []\n",
    "min_chi2 = []\n",
    "best_model = []\n",
    "ind_chi2 = []\n",
    "dist_ind_value = []\n",
    "\n",
    "for j in range(N):\n",
    "    \n",
    "    #Create kn in universe.\n",
    "    x = np.random.randint(0, 7)\n",
    "    gen_kn = make_lightcurve(time, x)\n",
    "    kn = make_scale_model(gen_kn, [dist[j]])\n",
    "    \n",
    "    #Record model of kn chosen.\n",
    "    array_kns.append(x)\n",
    "    \n",
    "    #Need to find which model matches the kn in universe.\n",
    "    \n",
    "    #Work out step of model over distance.\n",
    "    dist_range = np.arange(np.floor(low_dist_err*dist[j]), np.ceil(high_dist_err*dist[j]), 1)\n",
    "    \n",
    "    #Loop over all models.\n",
    "    chisquare_models = []\n",
    "    for i in range(len(model)):\n",
    "        magnitude = make_lightcurve(time, i)\n",
    "        scale = make_scale_model(magnitude, dist_range)\n",
    "        error = introduce_telescope_err(scale)\n",
    "        chisquare = make_chi_squared(error, kn)\n",
    "        chisquare_models.append(chisquare)\n",
    "\n",
    "    #Save chisquared data in dictionary.\n",
    "    chi_dict = {'0':chisquare_models[0], '1':chisquare_models[1], '2':chisquare_models[2], '3':chisquare_models[3], '4':chisquare_models[4], '5':chisquare_models[5], '6':chisquare_models[6], '7':chisquare_models[7]}\n",
    "    return_model(chi_dict)\n",
    "    \n",
    "    #Using return model function to find the min chi and best model fit for all the models over every iteration.\n",
    "    lowest_chi = return_model(chi_dict)[1]\n",
    "    related_model = return_model(chi_dict)[2]\n",
    "    min_chi2.append(lowest_chi)\n",
    "    best_model.append(related_model)\n",
    "    \n",
    "    #Finding the index of the minimum chi value to find out where the distance of the model is.\n",
    "    chi_index_min = np.argmin(chisquare_models[int(related_model)])\n",
    "    ind_chi2.append(chi_index_min)\n",
    "    dist_range_index = dist_range[int(chi_index_min)]\n",
    "    dist_ind_value.append(dist_range_index)\n",
    "    \n",
    "    #Looping over dist_all_models N times for kn_info dict.\n",
    "    all_kn_distance.append(int(dist[j]))"
   ]
  },
  {
   "cell_type": "code",
   "execution_count": null,
   "metadata": {},
   "outputs": [],
   "source": [
    "#Save KN, best fit model, min chi2 value, model distance (use indexing to find lowest) and KN distance)\n",
    "\n",
    "kn_info = {'KN model':array_kns, 'Best fit model':best_model, 'Minimum Chi2':min_chi2, 'Model distance':dist_ind_value, 'KN distance':all_kn_distance}\n",
    "print(kn_info)"
   ]
  },
  {
   "cell_type": "code",
   "execution_count": null,
   "metadata": {},
   "outputs": [],
   "source": [
    "#Creating the efficiency curve.\n",
    "\n",
    "for i in range(x):\n",
    "    np.where(array_kns==i, best_model==i)\n",
    "    \n",
    "#\n",
    "\n",
    "\n",
    "#np.cumsum()\n",
    "\n",
    "#plt.plot(kn_info['KN distance'], )"
   ]
  },
  {
   "cell_type": "code",
   "execution_count": null,
   "metadata": {},
   "outputs": [],
   "source": [
    "plt.figure(figsize=(9,7))\n",
    "plt.plot(dist_range, chi_dict['0'], color='black', label='Two Component Model')\n",
    "plt.plot(dist_range, chi_dict['1'], color='red', label='Red Two Component Model')\n",
    "plt.plot(dist_range, chi_dict['2'], color='blue', label='Blue Two Component Model')\n",
    "plt.plot(dist_range, chi_dict['3'], color='black', linestyle='dashed', label='Three Component Model')\n",
    "plt.plot(dist_range, chi_dict['4'], color='blue', linestyle='dashed', label='Blue Three Component Model')\n",
    "plt.plot(dist_range, chi_dict['5'], color='green', label='Kawaguchi et al.')\n",
    "plt.plot(dist_range, chi_dict['6'], color='orange', label='Barbieri et al.')\n",
    "plt.plot(dist_range, chi_dict['7'], color='fuchsia', label='GW170817')\n",
    "plt.xlabel('Distance (Mpc)')\n",
    "plt.ylabel('$\\chi^{2}$')\n",
    "#plt.ylim(0,1)\n",
    "#plt.xlim(28,51)\n",
    "plt.grid()\n",
    "plt.legend()\n",
    "plt.savefig('chi_ehanced.png')"
   ]
  }
 ],
 "metadata": {
  "kernelspec": {
   "display_name": "Python 3",
   "language": "python",
   "name": "python3"
  },
  "language_info": {
   "codemirror_mode": {
    "name": "ipython",
    "version": 3
   },
   "file_extension": ".py",
   "mimetype": "text/x-python",
   "name": "python",
   "nbconvert_exporter": "python",
   "pygments_lexer": "ipython3",
   "version": "3.7.3"
  }
 },
 "nbformat": 4,
 "nbformat_minor": 2
}
